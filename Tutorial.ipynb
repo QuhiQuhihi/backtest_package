{
 "cells": [
  {
   "cell_type": "markdown",
   "metadata": {},
   "source": [
    "# Tutorial\n",
    "\n",
    "In this tutorial, we will learn how to use three modules in the quantnote package: DataLoader, BacktestEngine, and Strategy. First, let us import the modules."
   ]
  },
  {
   "cell_type": "code",
   "execution_count": 1,
   "metadata": {},
   "outputs": [],
   "source": [
    "from quantnote import DataLoader, BacktestEngine, Strategy"
   ]
  },
  {
   "cell_type": "markdown",
   "metadata": {},
   "source": [
    "## 1. DataLoader\n",
    "\n",
    "DataLoader is a module to set universe and download the corresponding data from various data sources. Depending on the API keys you have, you can call the DataLoader in the following three ways. This tutorial does not need any API key."
   ]
  },
  {
   "cell_type": "code",
   "execution_count": 2,
   "metadata": {},
   "outputs": [
    {
     "name": "stdout",
     "output_type": "stream",
     "text": [
      "Downloading data in 1900/01/01--2021/08/29\n",
      "[update_universe_yf] is executed in 0.00 seconds\n",
      "[update_fundamentals_yf] is executed in 37.13 seconds\n",
      "[*********************100%***********************]  19 of 19 completed\n",
      "[update_market_yf] is executed in 4.21 seconds\n",
      "[update_ticker_yf] is executed in 36.21 seconds\n",
      "[update_metric_yf] is executed in 0.10 seconds\n",
      "[update_data] is executed in 77.65 seconds\n"
     ]
    },
    {
     "name": "stderr",
     "output_type": "stream",
     "text": [
      "C:\\Users\\earen\\Anaconda3\\lib\\site-packages\\pandas\\core\\generic.py:2605: UserWarning: The spaces in these column names will not be changed. In pandas versions < 0.14, spaces were converted to underscores.\n",
      "  sql.to_sql(\n"
     ]
    },
    {
     "name": "stdout",
     "output_type": "stream",
     "text": [
      "DB has data from 1927-12-30 00:00:00 to 2021-08-27 00:00:00\n",
      "Data saved in ./myDB.db\n",
      "[save_db] is executed in 2.26 seconds\n"
     ]
    }
   ],
   "source": [
    "# The simplest way to load data.\n",
    "DL_1 = DataLoader(\n",
    "    size=10, # size determines the number of companies in your universe.\n",
    "    db_name='./myDB.db' # db_name determines the path that the donwloaded dataset will be saved.\n",
    ") \n",
    "\n",
    "# In case you have fred API key. You can access to the macroeconomic dataset.\n",
    "# DL_2 = DataLoader(fred_key = 'fred_key', size=10, db_name='./myDB.db') \n",
    "\n",
    "# In case you have quandl API key subscribed to the Sharadar equity bundle. You can construct the universe without look-ahead bias.\n",
    "# DL_3 = DataLoader(quandl_key = 'quandl_key', fred_key = 'fred_key', size=10, db_name='./myDB.db')"
   ]
  },
  {
   "cell_type": "markdown",
   "metadata": {},
   "source": [
    "When constructing the historical universe for backtesting, it is crucial to avoid look-ahead bias. For DL_1 and DL_2 above, their universe is given by the companies in the current S&P 500 constituents with top-N market capitalization (N=size). For DL_3, however, its universe is given by the companies of top-N market capitalization with fixed size, but its constituents change dynamically in monthly basis."
   ]
  },
  {
   "cell_type": "markdown",
   "metadata": {},
   "source": [
    "## 2. BacktestEngine\n",
    "\n",
    "BacktestEngine is a main module to run backtest. It needs database file retrieved from the DataLoader module."
   ]
  },
  {
   "cell_type": "code",
   "execution_count": 3,
   "metadata": {},
   "outputs": [
    {
     "name": "stdout",
     "output_type": "stream",
     "text": [
      "Loading DB...\n",
      "FRED data does not exsit\n",
      "DB loaded in 0.82 seconds\n",
      "[initialize] is executed in 4.17 seconds\n"
     ]
    }
   ],
   "source": [
    "engine = BacktestEngine(db_name = './myDB.db')"
   ]
  },
  {
   "cell_type": "markdown",
   "metadata": {},
   "source": [
    "### 2.1. Check cache data\n",
    "\n",
    "BacktestEngine saves the DB data in 'cache' variable. Cache takes the form of {key1 : {key2 : pd.DataFrame} }  Here, key1 is one of market, metric, fundamentals, and tickerinfo. key2 is one of the tickers of the company in our universe. Let's see what's inside the cache."
   ]
  },
  {
   "cell_type": "markdown",
   "metadata": {},
   "source": [
    "First, 'market' table shows historical adjusted OHLC and volume."
   ]
  },
  {
   "cell_type": "code",
   "execution_count": 4,
   "metadata": {},
   "outputs": [
    {
     "data": {
      "text/html": [
       "<div>\n",
       "<style scoped>\n",
       "    .dataframe tbody tr th:only-of-type {\n",
       "        vertical-align: middle;\n",
       "    }\n",
       "\n",
       "    .dataframe tbody tr th {\n",
       "        vertical-align: top;\n",
       "    }\n",
       "\n",
       "    .dataframe thead th {\n",
       "        text-align: right;\n",
       "    }\n",
       "</style>\n",
       "<table border=\"1\" class=\"dataframe\">\n",
       "  <thead>\n",
       "    <tr style=\"text-align: right;\">\n",
       "      <th></th>\n",
       "      <th>open</th>\n",
       "      <th>high</th>\n",
       "      <th>low</th>\n",
       "      <th>close</th>\n",
       "      <th>volume</th>\n",
       "      <th>ticker</th>\n",
       "    </tr>\n",
       "    <tr>\n",
       "      <th>date</th>\n",
       "      <th></th>\n",
       "      <th></th>\n",
       "      <th></th>\n",
       "      <th></th>\n",
       "      <th></th>\n",
       "      <th></th>\n",
       "    </tr>\n",
       "  </thead>\n",
       "  <tbody>\n",
       "    <tr>\n",
       "      <th>1980-12-12</th>\n",
       "      <td>0.100600</td>\n",
       "      <td>0.101037</td>\n",
       "      <td>0.100600</td>\n",
       "      <td>0.100600</td>\n",
       "      <td>469033600.0</td>\n",
       "      <td>AAPL</td>\n",
       "    </tr>\n",
       "    <tr>\n",
       "      <th>1980-12-15</th>\n",
       "      <td>0.095789</td>\n",
       "      <td>0.095789</td>\n",
       "      <td>0.095352</td>\n",
       "      <td>0.095352</td>\n",
       "      <td>175884800.0</td>\n",
       "      <td>AAPL</td>\n",
       "    </tr>\n",
       "    <tr>\n",
       "      <th>1980-12-16</th>\n",
       "      <td>0.088790</td>\n",
       "      <td>0.088790</td>\n",
       "      <td>0.088353</td>\n",
       "      <td>0.088353</td>\n",
       "      <td>105728000.0</td>\n",
       "      <td>AAPL</td>\n",
       "    </tr>\n",
       "    <tr>\n",
       "      <th>1980-12-17</th>\n",
       "      <td>0.090540</td>\n",
       "      <td>0.090977</td>\n",
       "      <td>0.090540</td>\n",
       "      <td>0.090540</td>\n",
       "      <td>86441600.0</td>\n",
       "      <td>AAPL</td>\n",
       "    </tr>\n",
       "    <tr>\n",
       "      <th>1980-12-18</th>\n",
       "      <td>0.093165</td>\n",
       "      <td>0.093602</td>\n",
       "      <td>0.093165</td>\n",
       "      <td>0.093165</td>\n",
       "      <td>73449600.0</td>\n",
       "      <td>AAPL</td>\n",
       "    </tr>\n",
       "    <tr>\n",
       "      <th>...</th>\n",
       "      <td>...</td>\n",
       "      <td>...</td>\n",
       "      <td>...</td>\n",
       "      <td>...</td>\n",
       "      <td>...</td>\n",
       "      <td>...</td>\n",
       "    </tr>\n",
       "    <tr>\n",
       "      <th>2021-08-23</th>\n",
       "      <td>148.309998</td>\n",
       "      <td>150.190002</td>\n",
       "      <td>147.889999</td>\n",
       "      <td>149.710007</td>\n",
       "      <td>60131800.0</td>\n",
       "      <td>AAPL</td>\n",
       "    </tr>\n",
       "    <tr>\n",
       "      <th>2021-08-24</th>\n",
       "      <td>149.449997</td>\n",
       "      <td>150.860001</td>\n",
       "      <td>149.149994</td>\n",
       "      <td>149.619995</td>\n",
       "      <td>48606400.0</td>\n",
       "      <td>AAPL</td>\n",
       "    </tr>\n",
       "    <tr>\n",
       "      <th>2021-08-25</th>\n",
       "      <td>149.809998</td>\n",
       "      <td>150.320007</td>\n",
       "      <td>147.800003</td>\n",
       "      <td>148.360001</td>\n",
       "      <td>58991300.0</td>\n",
       "      <td>AAPL</td>\n",
       "    </tr>\n",
       "    <tr>\n",
       "      <th>2021-08-26</th>\n",
       "      <td>148.350006</td>\n",
       "      <td>149.119995</td>\n",
       "      <td>147.509995</td>\n",
       "      <td>147.539993</td>\n",
       "      <td>48597200.0</td>\n",
       "      <td>AAPL</td>\n",
       "    </tr>\n",
       "    <tr>\n",
       "      <th>2021-08-27</th>\n",
       "      <td>147.479996</td>\n",
       "      <td>148.750000</td>\n",
       "      <td>146.830002</td>\n",
       "      <td>148.600006</td>\n",
       "      <td>55721500.0</td>\n",
       "      <td>AAPL</td>\n",
       "    </tr>\n",
       "  </tbody>\n",
       "</table>\n",
       "<p>10265 rows × 6 columns</p>\n",
       "</div>"
      ],
      "text/plain": [
       "                  open        high         low       close       volume ticker\n",
       "date                                                                          \n",
       "1980-12-12    0.100600    0.101037    0.100600    0.100600  469033600.0   AAPL\n",
       "1980-12-15    0.095789    0.095789    0.095352    0.095352  175884800.0   AAPL\n",
       "1980-12-16    0.088790    0.088790    0.088353    0.088353  105728000.0   AAPL\n",
       "1980-12-17    0.090540    0.090977    0.090540    0.090540   86441600.0   AAPL\n",
       "1980-12-18    0.093165    0.093602    0.093165    0.093165   73449600.0   AAPL\n",
       "...                ...         ...         ...         ...          ...    ...\n",
       "2021-08-23  148.309998  150.190002  147.889999  149.710007   60131800.0   AAPL\n",
       "2021-08-24  149.449997  150.860001  149.149994  149.619995   48606400.0   AAPL\n",
       "2021-08-25  149.809998  150.320007  147.800003  148.360001   58991300.0   AAPL\n",
       "2021-08-26  148.350006  149.119995  147.509995  147.539993   48597200.0   AAPL\n",
       "2021-08-27  147.479996  148.750000  146.830002  148.600006   55721500.0   AAPL\n",
       "\n",
       "[10265 rows x 6 columns]"
      ]
     },
     "execution_count": 4,
     "metadata": {},
     "output_type": "execute_result"
    }
   ],
   "source": [
    "engine.cache['market']['AAPL']"
   ]
  },
  {
   "cell_type": "markdown",
   "metadata": {},
   "source": [
    "Second, 'fundamentals' table shows the financial statement of the company."
   ]
  },
  {
   "cell_type": "code",
   "execution_count": 5,
   "metadata": {},
   "outputs": [
    {
     "data": {
      "text/html": [
       "<div>\n",
       "<style scoped>\n",
       "    .dataframe tbody tr th:only-of-type {\n",
       "        vertical-align: middle;\n",
       "    }\n",
       "\n",
       "    .dataframe tbody tr th {\n",
       "        vertical-align: top;\n",
       "    }\n",
       "\n",
       "    .dataframe thead th {\n",
       "        text-align: right;\n",
       "    }\n",
       "</style>\n",
       "<table border=\"1\" class=\"dataframe\">\n",
       "  <thead>\n",
       "    <tr style=\"text-align: right;\">\n",
       "      <th></th>\n",
       "      <th>Research Development</th>\n",
       "      <th>Effect Of Accounting Charges</th>\n",
       "      <th>Income Before Tax</th>\n",
       "      <th>Minority Interest</th>\n",
       "      <th>Net Income</th>\n",
       "      <th>Selling General Administrative</th>\n",
       "      <th>Gross Profit</th>\n",
       "      <th>Ebit</th>\n",
       "      <th>Operating Income</th>\n",
       "      <th>Other Operating Expenses</th>\n",
       "      <th>...</th>\n",
       "      <th>Other Cashflows From Investing Activities</th>\n",
       "      <th>Dividends Paid</th>\n",
       "      <th>Change To Inventory</th>\n",
       "      <th>Change To Account Receivables</th>\n",
       "      <th>Other Cashflows From Financing Activities</th>\n",
       "      <th>Change To Netincome</th>\n",
       "      <th>Capital Expenditures</th>\n",
       "      <th>ticker</th>\n",
       "      <th>Capital Surplus</th>\n",
       "      <th>Deferred Long Term Liab</th>\n",
       "    </tr>\n",
       "    <tr>\n",
       "      <th>datekey</th>\n",
       "      <th></th>\n",
       "      <th></th>\n",
       "      <th></th>\n",
       "      <th></th>\n",
       "      <th></th>\n",
       "      <th></th>\n",
       "      <th></th>\n",
       "      <th></th>\n",
       "      <th></th>\n",
       "      <th></th>\n",
       "      <th></th>\n",
       "      <th></th>\n",
       "      <th></th>\n",
       "      <th></th>\n",
       "      <th></th>\n",
       "      <th></th>\n",
       "      <th></th>\n",
       "      <th></th>\n",
       "      <th></th>\n",
       "      <th></th>\n",
       "      <th></th>\n",
       "    </tr>\n",
       "  </thead>\n",
       "  <tbody>\n",
       "    <tr>\n",
       "      <th>2017-09-30</th>\n",
       "      <td>1.158100e+10</td>\n",
       "      <td>None</td>\n",
       "      <td>6.408900e+10</td>\n",
       "      <td>NaN</td>\n",
       "      <td>4.835100e+10</td>\n",
       "      <td>1.526100e+10</td>\n",
       "      <td>8.818600e+10</td>\n",
       "      <td>6.134400e+10</td>\n",
       "      <td>6.134400e+10</td>\n",
       "      <td>NaN</td>\n",
       "      <td>...</td>\n",
       "      <td>-1.240000e+08</td>\n",
       "      <td>-1.276900e+10</td>\n",
       "      <td>-2.723000e+09</td>\n",
       "      <td>-2.093000e+09</td>\n",
       "      <td>-105000000.0</td>\n",
       "      <td>1.064000e+10</td>\n",
       "      <td>-1.245100e+10</td>\n",
       "      <td>AAPL</td>\n",
       "      <td>NaN</td>\n",
       "      <td>NaN</td>\n",
       "    </tr>\n",
       "    <tr>\n",
       "      <th>2018-09-29</th>\n",
       "      <td>1.423600e+10</td>\n",
       "      <td>None</td>\n",
       "      <td>7.290300e+10</td>\n",
       "      <td>NaN</td>\n",
       "      <td>5.953100e+10</td>\n",
       "      <td>1.670500e+10</td>\n",
       "      <td>1.018390e+11</td>\n",
       "      <td>7.089800e+10</td>\n",
       "      <td>7.089800e+10</td>\n",
       "      <td>NaN</td>\n",
       "      <td>...</td>\n",
       "      <td>-7.450000e+08</td>\n",
       "      <td>-1.371200e+10</td>\n",
       "      <td>8.280000e+08</td>\n",
       "      <td>-5.322000e+09</td>\n",
       "      <td>-105000000.0</td>\n",
       "      <td>-2.769400e+10</td>\n",
       "      <td>-1.331300e+10</td>\n",
       "      <td>AAPL</td>\n",
       "      <td>NaN</td>\n",
       "      <td>NaN</td>\n",
       "    </tr>\n",
       "    <tr>\n",
       "      <th>2019-09-28</th>\n",
       "      <td>1.621700e+10</td>\n",
       "      <td>None</td>\n",
       "      <td>6.573700e+10</td>\n",
       "      <td>NaN</td>\n",
       "      <td>5.525600e+10</td>\n",
       "      <td>1.824500e+10</td>\n",
       "      <td>9.839200e+10</td>\n",
       "      <td>6.393000e+10</td>\n",
       "      <td>6.393000e+10</td>\n",
       "      <td>NaN</td>\n",
       "      <td>...</td>\n",
       "      <td>-1.078000e+09</td>\n",
       "      <td>-1.411900e+10</td>\n",
       "      <td>-2.890000e+08</td>\n",
       "      <td>2.450000e+08</td>\n",
       "      <td>-105000000.0</td>\n",
       "      <td>5.076000e+09</td>\n",
       "      <td>-1.049500e+10</td>\n",
       "      <td>AAPL</td>\n",
       "      <td>NaN</td>\n",
       "      <td>NaN</td>\n",
       "    </tr>\n",
       "    <tr>\n",
       "      <th>2020-09-26</th>\n",
       "      <td>1.875200e+10</td>\n",
       "      <td>None</td>\n",
       "      <td>6.709100e+10</td>\n",
       "      <td>NaN</td>\n",
       "      <td>5.741100e+10</td>\n",
       "      <td>1.991600e+10</td>\n",
       "      <td>1.049560e+11</td>\n",
       "      <td>6.628800e+10</td>\n",
       "      <td>6.628800e+10</td>\n",
       "      <td>NaN</td>\n",
       "      <td>...</td>\n",
       "      <td>-7.910000e+08</td>\n",
       "      <td>-1.408100e+10</td>\n",
       "      <td>-1.270000e+08</td>\n",
       "      <td>6.917000e+09</td>\n",
       "      <td>-126000000.0</td>\n",
       "      <td>6.517000e+09</td>\n",
       "      <td>-7.309000e+09</td>\n",
       "      <td>AAPL</td>\n",
       "      <td>NaN</td>\n",
       "      <td>NaN</td>\n",
       "    </tr>\n",
       "  </tbody>\n",
       "</table>\n",
       "<p>4 rows × 70 columns</p>\n",
       "</div>"
      ],
      "text/plain": [
       "            Research Development Effect Of Accounting Charges  \\\n",
       "datekey                                                         \n",
       "2017-09-30          1.158100e+10                         None   \n",
       "2018-09-29          1.423600e+10                         None   \n",
       "2019-09-28          1.621700e+10                         None   \n",
       "2020-09-26          1.875200e+10                         None   \n",
       "\n",
       "            Income Before Tax  Minority Interest    Net Income  \\\n",
       "datekey                                                          \n",
       "2017-09-30       6.408900e+10                NaN  4.835100e+10   \n",
       "2018-09-29       7.290300e+10                NaN  5.953100e+10   \n",
       "2019-09-28       6.573700e+10                NaN  5.525600e+10   \n",
       "2020-09-26       6.709100e+10                NaN  5.741100e+10   \n",
       "\n",
       "            Selling General Administrative  Gross Profit          Ebit  \\\n",
       "datekey                                                                  \n",
       "2017-09-30                    1.526100e+10  8.818600e+10  6.134400e+10   \n",
       "2018-09-29                    1.670500e+10  1.018390e+11  7.089800e+10   \n",
       "2019-09-28                    1.824500e+10  9.839200e+10  6.393000e+10   \n",
       "2020-09-26                    1.991600e+10  1.049560e+11  6.628800e+10   \n",
       "\n",
       "            Operating Income  Other Operating Expenses  ...  \\\n",
       "datekey                                                 ...   \n",
       "2017-09-30      6.134400e+10                       NaN  ...   \n",
       "2018-09-29      7.089800e+10                       NaN  ...   \n",
       "2019-09-28      6.393000e+10                       NaN  ...   \n",
       "2020-09-26      6.628800e+10                       NaN  ...   \n",
       "\n",
       "            Other Cashflows From Investing Activities Dividends Paid  \\\n",
       "datekey                                                                \n",
       "2017-09-30                              -1.240000e+08  -1.276900e+10   \n",
       "2018-09-29                              -7.450000e+08  -1.371200e+10   \n",
       "2019-09-28                              -1.078000e+09  -1.411900e+10   \n",
       "2020-09-26                              -7.910000e+08  -1.408100e+10   \n",
       "\n",
       "           Change To Inventory Change To Account Receivables  \\\n",
       "datekey                                                        \n",
       "2017-09-30       -2.723000e+09                 -2.093000e+09   \n",
       "2018-09-29        8.280000e+08                 -5.322000e+09   \n",
       "2019-09-28       -2.890000e+08                  2.450000e+08   \n",
       "2020-09-26       -1.270000e+08                  6.917000e+09   \n",
       "\n",
       "            Other Cashflows From Financing Activities  Change To Netincome  \\\n",
       "datekey                                                                      \n",
       "2017-09-30                               -105000000.0         1.064000e+10   \n",
       "2018-09-29                               -105000000.0        -2.769400e+10   \n",
       "2019-09-28                               -105000000.0         5.076000e+09   \n",
       "2020-09-26                               -126000000.0         6.517000e+09   \n",
       "\n",
       "            Capital Expenditures  ticker  Capital Surplus  \\\n",
       "datekey                                                     \n",
       "2017-09-30         -1.245100e+10    AAPL              NaN   \n",
       "2018-09-29         -1.331300e+10    AAPL              NaN   \n",
       "2019-09-28         -1.049500e+10    AAPL              NaN   \n",
       "2020-09-26         -7.309000e+09    AAPL              NaN   \n",
       "\n",
       "           Deferred Long Term Liab  \n",
       "datekey                             \n",
       "2017-09-30                     NaN  \n",
       "2018-09-29                     NaN  \n",
       "2019-09-28                     NaN  \n",
       "2020-09-26                     NaN  \n",
       "\n",
       "[4 rows x 70 columns]"
      ]
     },
     "execution_count": 5,
     "metadata": {},
     "output_type": "execute_result"
    }
   ],
   "source": [
    "engine.cache['fundamentals']['AAPL']"
   ]
  },
  {
   "cell_type": "markdown",
   "metadata": {},
   "source": [
    "As you can see, the fundamentals table has a lengthy columns. Those information contain:"
   ]
  },
  {
   "cell_type": "code",
   "execution_count": 6,
   "metadata": {},
   "outputs": [
    {
     "data": {
      "text/plain": [
       "Index(['Research Development', 'Effect Of Accounting Charges',\n",
       "       'Income Before Tax', 'Minority Interest', 'Net Income',\n",
       "       'Selling General Administrative', 'Gross Profit', 'Ebit',\n",
       "       'Operating Income', 'Other Operating Expenses', 'Interest Expense',\n",
       "       'Extraordinary Items', 'Non Recurring', 'Other Items',\n",
       "       'Income Tax Expense', 'Total Revenue', 'Total Operating Expenses',\n",
       "       'Cost Of Revenue', 'Total Other Income Expense Net',\n",
       "       'Discontinued Operations', 'Net Income From Continuing Ops',\n",
       "       'Net Income Applicable To Common Shares', 'Intangible Assets',\n",
       "       'Total Liab', 'Total Stockholder Equity', 'Other Current Liab',\n",
       "       'Total Assets', 'Common Stock', 'Other Current Assets',\n",
       "       'Retained Earnings', 'Other Liab', 'Good Will', 'Treasury Stock',\n",
       "       'Other Assets', 'Cash', 'Total Current Liabilities',\n",
       "       'Deferred Long Term Asset Charges', 'Short Long Term Debt',\n",
       "       'Other Stockholder Equity', 'Property Plant Equipment',\n",
       "       'Total Current Assets', 'Long Term Investments', 'Net Tangible Assets',\n",
       "       'Short Term Investments', 'Net Receivables', 'Long Term Debt',\n",
       "       'Inventory', 'Accounts Payable', 'Investments', 'Change To Liabilities',\n",
       "       'Total Cashflows From Investing Activities', 'Net Borrowings',\n",
       "       'Total Cash From Financing Activities',\n",
       "       'Change To Operating Activities', 'Issuance Of Stock', 'Change In Cash',\n",
       "       'Repurchase Of Stock', 'Effect Of Exchange Rate',\n",
       "       'Total Cash From Operating Activities', 'Depreciation',\n",
       "       'Other Cashflows From Investing Activities', 'Dividends Paid',\n",
       "       'Change To Inventory', 'Change To Account Receivables',\n",
       "       'Other Cashflows From Financing Activities', 'Change To Netincome',\n",
       "       'Capital Expenditures', 'ticker', 'Capital Surplus',\n",
       "       'Deferred Long Term Liab'],\n",
       "      dtype='object')"
      ]
     },
     "execution_count": 6,
     "metadata": {},
     "output_type": "execute_result"
    }
   ],
   "source": [
    "engine.cache['fundamentals']['AAPL'].columns"
   ]
  },
  {
   "cell_type": "markdown",
   "metadata": {},
   "source": [
    "Third, 'metric' table shows the daily metric of the company. Without the quandl API key, it only shows daily market cap data."
   ]
  },
  {
   "cell_type": "code",
   "execution_count": 7,
   "metadata": {},
   "outputs": [
    {
     "data": {
      "text/html": [
       "<div>\n",
       "<style scoped>\n",
       "    .dataframe tbody tr th:only-of-type {\n",
       "        vertical-align: middle;\n",
       "    }\n",
       "\n",
       "    .dataframe tbody tr th {\n",
       "        vertical-align: top;\n",
       "    }\n",
       "\n",
       "    .dataframe thead th {\n",
       "        text-align: right;\n",
       "    }\n",
       "</style>\n",
       "<table border=\"1\" class=\"dataframe\">\n",
       "  <thead>\n",
       "    <tr style=\"text-align: right;\">\n",
       "      <th></th>\n",
       "      <th>marketcap</th>\n",
       "      <th>ticker</th>\n",
       "    </tr>\n",
       "    <tr>\n",
       "      <th>date</th>\n",
       "      <th></th>\n",
       "      <th></th>\n",
       "    </tr>\n",
       "  </thead>\n",
       "  <tbody>\n",
       "    <tr>\n",
       "      <th>1980-12-12</th>\n",
       "      <td>1.662939e+09</td>\n",
       "      <td>AAPL</td>\n",
       "    </tr>\n",
       "    <tr>\n",
       "      <th>1980-12-15</th>\n",
       "      <td>1.576182e+09</td>\n",
       "      <td>AAPL</td>\n",
       "    </tr>\n",
       "    <tr>\n",
       "      <th>1980-12-16</th>\n",
       "      <td>1.460494e+09</td>\n",
       "      <td>AAPL</td>\n",
       "    </tr>\n",
       "    <tr>\n",
       "      <th>1980-12-17</th>\n",
       "      <td>1.496643e+09</td>\n",
       "      <td>AAPL</td>\n",
       "    </tr>\n",
       "    <tr>\n",
       "      <th>1980-12-18</th>\n",
       "      <td>1.540034e+09</td>\n",
       "      <td>AAPL</td>\n",
       "    </tr>\n",
       "    <tr>\n",
       "      <th>...</th>\n",
       "      <td>...</td>\n",
       "      <td>...</td>\n",
       "    </tr>\n",
       "    <tr>\n",
       "      <th>2021-08-23</th>\n",
       "      <td>2.474736e+12</td>\n",
       "      <td>AAPL</td>\n",
       "    </tr>\n",
       "    <tr>\n",
       "      <th>2021-08-24</th>\n",
       "      <td>2.473248e+12</td>\n",
       "      <td>AAPL</td>\n",
       "    </tr>\n",
       "    <tr>\n",
       "      <th>2021-08-25</th>\n",
       "      <td>2.452421e+12</td>\n",
       "      <td>AAPL</td>\n",
       "    </tr>\n",
       "    <tr>\n",
       "      <th>2021-08-26</th>\n",
       "      <td>2.438866e+12</td>\n",
       "      <td>AAPL</td>\n",
       "    </tr>\n",
       "    <tr>\n",
       "      <th>2021-08-27</th>\n",
       "      <td>2.456388e+12</td>\n",
       "      <td>AAPL</td>\n",
       "    </tr>\n",
       "  </tbody>\n",
       "</table>\n",
       "<p>10265 rows × 2 columns</p>\n",
       "</div>"
      ],
      "text/plain": [
       "               marketcap ticker\n",
       "date                           \n",
       "1980-12-12  1.662939e+09   AAPL\n",
       "1980-12-15  1.576182e+09   AAPL\n",
       "1980-12-16  1.460494e+09   AAPL\n",
       "1980-12-17  1.496643e+09   AAPL\n",
       "1980-12-18  1.540034e+09   AAPL\n",
       "...                  ...    ...\n",
       "2021-08-23  2.474736e+12   AAPL\n",
       "2021-08-24  2.473248e+12   AAPL\n",
       "2021-08-25  2.452421e+12   AAPL\n",
       "2021-08-26  2.438866e+12   AAPL\n",
       "2021-08-27  2.456388e+12   AAPL\n",
       "\n",
       "[10265 rows x 2 columns]"
      ]
     },
     "execution_count": 7,
     "metadata": {},
     "output_type": "execute_result"
    }
   ],
   "source": [
    "engine.cache['metric']['AAPL']"
   ]
  },
  {
   "cell_type": "markdown",
   "metadata": {},
   "source": [
    "Lastly, tickerinfo table shows the information of the ticker. Without the quandl API key, it only shows sector information."
   ]
  },
  {
   "cell_type": "code",
   "execution_count": 8,
   "metadata": {},
   "outputs": [
    {
     "data": {
      "text/html": [
       "<div>\n",
       "<style scoped>\n",
       "    .dataframe tbody tr th:only-of-type {\n",
       "        vertical-align: middle;\n",
       "    }\n",
       "\n",
       "    .dataframe tbody tr th {\n",
       "        vertical-align: top;\n",
       "    }\n",
       "\n",
       "    .dataframe thead th {\n",
       "        text-align: right;\n",
       "    }\n",
       "</style>\n",
       "<table border=\"1\" class=\"dataframe\">\n",
       "  <thead>\n",
       "    <tr style=\"text-align: right;\">\n",
       "      <th></th>\n",
       "      <th>ticker</th>\n",
       "      <th>sector</th>\n",
       "    </tr>\n",
       "    <tr>\n",
       "      <th>permaticker</th>\n",
       "      <th></th>\n",
       "      <th></th>\n",
       "    </tr>\n",
       "  </thead>\n",
       "  <tbody>\n",
       "    <tr>\n",
       "      <th>3.0</th>\n",
       "      <td>AAPL</td>\n",
       "      <td>Technology</td>\n",
       "    </tr>\n",
       "  </tbody>\n",
       "</table>\n",
       "</div>"
      ],
      "text/plain": [
       "            ticker      sector\n",
       "permaticker                   \n",
       "3.0           AAPL  Technology"
      ]
     },
     "execution_count": 8,
     "metadata": {},
     "output_type": "execute_result"
    }
   ],
   "source": [
    "engine.cache['tickerinfo']['AAPL']"
   ]
  },
  {
   "cell_type": "markdown",
   "metadata": {},
   "source": [
    "If you have FRED API key, cache will have 'macro' table also. Check it out later if you have fred api key."
   ]
  },
  {
   "cell_type": "code",
   "execution_count": 9,
   "metadata": {},
   "outputs": [],
   "source": [
    "# engine.cache['macro']"
   ]
  },
  {
   "cell_type": "markdown",
   "metadata": {},
   "source": [
    "### 2.2. Write down Strategy\n",
    "\n",
    "With the cache data above, you can construct investment strategy. BacktestEngine module will show sample code for the simple strategy class. Also you need is copy and paste the code below to write down your own code."
   ]
  },
  {
   "cell_type": "code",
   "execution_count": 10,
   "metadata": {},
   "outputs": [
    {
     "name": "stdout",
     "output_type": "stream",
     "text": [
      "class myStrategy(Strategy):\n",
      "    def __init__(self):\n",
      "        super().__init__()\n",
      "\n",
      "    def compute_target(self, universe_list):\n",
      "        target_weight = { }\n",
      "        for ticker in universe_list:\n",
      "            target_weight[ticker] = 1\n",
      "        target_weight = self.normalize(target_weight)\n",
      "        return target_weight\n",
      "\n",
      "    def custom_factor(self, ticker, ftype):\n",
      "        if ftype == 'marketcap':\n",
      "            return self.get_value('metric',ticker,'marketcap')\n",
      "        else:\n",
      "            assert False\n",
      "\n"
     ]
    }
   ],
   "source": [
    "engine.show_sample_strategy()"
   ]
  },
  {
   "cell_type": "markdown",
   "metadata": {},
   "source": [
    "## 3. Stretegy\n",
    "\n",
    "We begin by copy & paste the code above. The sample codes gives equal weight to all tickers in universe."
   ]
  },
  {
   "cell_type": "code",
   "execution_count": 11,
   "metadata": {},
   "outputs": [],
   "source": [
    "class myStrategy(Strategy):\n",
    "    def __init__(self):\n",
    "        super().__init__()\n",
    "\n",
    "    def compute_target(self, universe_list):\n",
    "        target_weight = { }\n",
    "        for ticker in universe_list:\n",
    "            target_weight[ticker] = 1\n",
    "            # our strategy gives equal weight for all tickers in universe\n",
    "            \n",
    "        target_weight = self.normalize(target_weight)\n",
    "        # the target weight should be normalized so that their sum is equal to 1\n",
    "        return target_weight\n",
    "\n",
    "    def custom_factor(self, ticker, ftype):\n",
    "        if ftype == 'marketcap':\n",
    "            return self.get_value('metric',ticker,'marketcap')\n",
    "        else:\n",
    "            assert False"
   ]
  },
  {
   "cell_type": "code",
   "execution_count": 12,
   "metadata": {},
   "outputs": [],
   "source": [
    "EW = myStrategy()"
   ]
  },
  {
   "cell_type": "markdown",
   "metadata": {},
   "source": [
    "### 3.1. Run backtest\n",
    "\n",
    "Now you can run backtest as follows."
   ]
  },
  {
   "cell_type": "code",
   "execution_count": 13,
   "metadata": {},
   "outputs": [
    {
     "name": "stdout",
     "output_type": "stream",
     "text": [
      "Backtest period: 2018-01-02 00:00:00 -- 2021-08-27 00:00:00\n",
      "=== date:2021-08-27 00:00:00 / total_asset:3.202 / time elapsed:3.6 ===\n",
      "[run_backtest] is executed in 3.83 seconds\n"
     ]
    }
   ],
   "source": [
    "engine.run_backtest(\n",
    "    strategy = EW, sdate = '2018-01-01', edate = '2021-08-27')"
   ]
  },
  {
   "cell_type": "markdown",
   "metadata": {},
   "source": [
    "The asset allocation history during your backteset is stored in the engine.asset_df variable."
   ]
  },
  {
   "cell_type": "code",
   "execution_count": 14,
   "metadata": {},
   "outputs": [
    {
     "data": {
      "text/html": [
       "<div>\n",
       "<style scoped>\n",
       "    .dataframe tbody tr th:only-of-type {\n",
       "        vertical-align: middle;\n",
       "    }\n",
       "\n",
       "    .dataframe tbody tr th {\n",
       "        vertical-align: top;\n",
       "    }\n",
       "\n",
       "    .dataframe thead th {\n",
       "        text-align: right;\n",
       "    }\n",
       "</style>\n",
       "<table border=\"1\" class=\"dataframe\">\n",
       "  <thead>\n",
       "    <tr style=\"text-align: right;\">\n",
       "      <th></th>\n",
       "      <th>cash</th>\n",
       "      <th>MSFT</th>\n",
       "      <th>NVDA</th>\n",
       "      <th>AAPL</th>\n",
       "      <th>BRK.B</th>\n",
       "      <th>GOOGL</th>\n",
       "      <th>FB</th>\n",
       "      <th>TSLA</th>\n",
       "      <th>JPM</th>\n",
       "      <th>JNJ</th>\n",
       "      <th>AMZN</th>\n",
       "    </tr>\n",
       "  </thead>\n",
       "  <tbody>\n",
       "    <tr>\n",
       "      <th>2018-01-02</th>\n",
       "      <td>0.0</td>\n",
       "      <td>0.100000</td>\n",
       "      <td>0.100000</td>\n",
       "      <td>0.100000</td>\n",
       "      <td>0.100000</td>\n",
       "      <td>0.100000</td>\n",
       "      <td>0.100000</td>\n",
       "      <td>0.100000</td>\n",
       "      <td>0.100000</td>\n",
       "      <td>0.100000</td>\n",
       "      <td>0.100000</td>\n",
       "    </tr>\n",
       "    <tr>\n",
       "      <th>2018-01-03</th>\n",
       "      <td>0.0</td>\n",
       "      <td>0.100465</td>\n",
       "      <td>0.106581</td>\n",
       "      <td>0.099983</td>\n",
       "      <td>0.101303</td>\n",
       "      <td>0.101706</td>\n",
       "      <td>0.101791</td>\n",
       "      <td>0.098977</td>\n",
       "      <td>0.100102</td>\n",
       "      <td>0.100955</td>\n",
       "      <td>0.101278</td>\n",
       "    </tr>\n",
       "    <tr>\n",
       "      <th>2018-01-04</th>\n",
       "      <td>0.0</td>\n",
       "      <td>0.101350</td>\n",
       "      <td>0.107143</td>\n",
       "      <td>0.100447</td>\n",
       "      <td>0.101759</td>\n",
       "      <td>0.102101</td>\n",
       "      <td>0.101604</td>\n",
       "      <td>0.098156</td>\n",
       "      <td>0.101536</td>\n",
       "      <td>0.100948</td>\n",
       "      <td>0.101731</td>\n",
       "    </tr>\n",
       "    <tr>\n",
       "      <th>2018-01-05</th>\n",
       "      <td>0.0</td>\n",
       "      <td>0.102606</td>\n",
       "      <td>0.108051</td>\n",
       "      <td>0.101591</td>\n",
       "      <td>0.102130</td>\n",
       "      <td>0.103455</td>\n",
       "      <td>0.102993</td>\n",
       "      <td>0.098768</td>\n",
       "      <td>0.100884</td>\n",
       "      <td>0.101781</td>\n",
       "      <td>0.103375</td>\n",
       "    </tr>\n",
       "    <tr>\n",
       "      <th>2018-01-08</th>\n",
       "      <td>0.0</td>\n",
       "      <td>0.102711</td>\n",
       "      <td>0.111362</td>\n",
       "      <td>0.101213</td>\n",
       "      <td>0.102799</td>\n",
       "      <td>0.103820</td>\n",
       "      <td>0.103781</td>\n",
       "      <td>0.104954</td>\n",
       "      <td>0.101033</td>\n",
       "      <td>0.101910</td>\n",
       "      <td>0.104866</td>\n",
       "    </tr>\n",
       "    <tr>\n",
       "      <th>...</th>\n",
       "      <td>...</td>\n",
       "      <td>...</td>\n",
       "      <td>...</td>\n",
       "      <td>...</td>\n",
       "      <td>...</td>\n",
       "      <td>...</td>\n",
       "      <td>...</td>\n",
       "      <td>...</td>\n",
       "      <td>...</td>\n",
       "      <td>...</td>\n",
       "      <td>...</td>\n",
       "    </tr>\n",
       "    <tr>\n",
       "      <th>2021-08-23</th>\n",
       "      <td>0.0</td>\n",
       "      <td>0.327564</td>\n",
       "      <td>0.339829</td>\n",
       "      <td>0.314929</td>\n",
       "      <td>0.313877</td>\n",
       "      <td>0.317414</td>\n",
       "      <td>0.315558</td>\n",
       "      <td>0.304206</td>\n",
       "      <td>0.316838</td>\n",
       "      <td>0.317004</td>\n",
       "      <td>0.299637</td>\n",
       "    </tr>\n",
       "    <tr>\n",
       "      <th>2021-08-24</th>\n",
       "      <td>0.0</td>\n",
       "      <td>0.325381</td>\n",
       "      <td>0.337275</td>\n",
       "      <td>0.314740</td>\n",
       "      <td>0.314317</td>\n",
       "      <td>0.320179</td>\n",
       "      <td>0.317433</td>\n",
       "      <td>0.305149</td>\n",
       "      <td>0.318800</td>\n",
       "      <td>0.313042</td>\n",
       "      <td>0.303299</td>\n",
       "    </tr>\n",
       "    <tr>\n",
       "      <th>2021-08-25</th>\n",
       "      <td>0.0</td>\n",
       "      <td>0.324725</td>\n",
       "      <td>0.343775</td>\n",
       "      <td>0.312089</td>\n",
       "      <td>0.315723</td>\n",
       "      <td>0.322032</td>\n",
       "      <td>0.319935</td>\n",
       "      <td>0.306316</td>\n",
       "      <td>0.325371</td>\n",
       "      <td>0.310972</td>\n",
       "      <td>0.302694</td>\n",
       "    </tr>\n",
       "    <tr>\n",
       "      <th>2021-08-26</th>\n",
       "      <td>0.0</td>\n",
       "      <td>0.321585</td>\n",
       "      <td>0.341531</td>\n",
       "      <td>0.310364</td>\n",
       "      <td>0.313492</td>\n",
       "      <td>0.320585</td>\n",
       "      <td>0.316452</td>\n",
       "      <td>0.301992</td>\n",
       "      <td>0.327049</td>\n",
       "      <td>0.309312</td>\n",
       "      <td>0.304237</td>\n",
       "    </tr>\n",
       "    <tr>\n",
       "      <th>2021-08-27</th>\n",
       "      <td>0.0</td>\n",
       "      <td>0.322263</td>\n",
       "      <td>0.350322</td>\n",
       "      <td>0.312594</td>\n",
       "      <td>0.314954</td>\n",
       "      <td>0.326395</td>\n",
       "      <td>0.323617</td>\n",
       "      <td>0.306626</td>\n",
       "      <td>0.329678</td>\n",
       "      <td>0.308651</td>\n",
       "      <td>0.307322</td>\n",
       "    </tr>\n",
       "  </tbody>\n",
       "</table>\n",
       "<p>921 rows × 11 columns</p>\n",
       "</div>"
      ],
      "text/plain": [
       "            cash      MSFT      NVDA      AAPL     BRK.B     GOOGL        FB  \\\n",
       "2018-01-02   0.0  0.100000  0.100000  0.100000  0.100000  0.100000  0.100000   \n",
       "2018-01-03   0.0  0.100465  0.106581  0.099983  0.101303  0.101706  0.101791   \n",
       "2018-01-04   0.0  0.101350  0.107143  0.100447  0.101759  0.102101  0.101604   \n",
       "2018-01-05   0.0  0.102606  0.108051  0.101591  0.102130  0.103455  0.102993   \n",
       "2018-01-08   0.0  0.102711  0.111362  0.101213  0.102799  0.103820  0.103781   \n",
       "...          ...       ...       ...       ...       ...       ...       ...   \n",
       "2021-08-23   0.0  0.327564  0.339829  0.314929  0.313877  0.317414  0.315558   \n",
       "2021-08-24   0.0  0.325381  0.337275  0.314740  0.314317  0.320179  0.317433   \n",
       "2021-08-25   0.0  0.324725  0.343775  0.312089  0.315723  0.322032  0.319935   \n",
       "2021-08-26   0.0  0.321585  0.341531  0.310364  0.313492  0.320585  0.316452   \n",
       "2021-08-27   0.0  0.322263  0.350322  0.312594  0.314954  0.326395  0.323617   \n",
       "\n",
       "                TSLA       JPM       JNJ      AMZN  \n",
       "2018-01-02  0.100000  0.100000  0.100000  0.100000  \n",
       "2018-01-03  0.098977  0.100102  0.100955  0.101278  \n",
       "2018-01-04  0.098156  0.101536  0.100948  0.101731  \n",
       "2018-01-05  0.098768  0.100884  0.101781  0.103375  \n",
       "2018-01-08  0.104954  0.101033  0.101910  0.104866  \n",
       "...              ...       ...       ...       ...  \n",
       "2021-08-23  0.304206  0.316838  0.317004  0.299637  \n",
       "2021-08-24  0.305149  0.318800  0.313042  0.303299  \n",
       "2021-08-25  0.306316  0.325371  0.310972  0.302694  \n",
       "2021-08-26  0.301992  0.327049  0.309312  0.304237  \n",
       "2021-08-27  0.306626  0.329678  0.308651  0.307322  \n",
       "\n",
       "[921 rows x 11 columns]"
      ]
     },
     "execution_count": 14,
     "metadata": {},
     "output_type": "execute_result"
    }
   ],
   "source": [
    "asset_df = engine.asset_df\n",
    "\n",
    "asset_df"
   ]
  },
  {
   "cell_type": "markdown",
   "metadata": {},
   "source": [
    "### 3.2. Visualize results\n",
    "\n",
    "Backtest engine module has some visualization functions. Check it out below. The result looks awesome, but note that our universe is set to be the top 10 largest company at 2021-Aug. Investing in such companies from 2018 definitely gives the outperforming result contaminated with the look-ahead bias."
   ]
  },
  {
   "cell_type": "code",
   "execution_count": 15,
   "metadata": {},
   "outputs": [
    {
     "name": "stderr",
     "output_type": "stream",
     "text": [
      "C:\\Users\\earen\\Anaconda3\\lib\\site-packages\\quantnote\\backtest_engine.py:368: UserWarning: Matplotlib is currently using module://ipykernel.pylab.backend_inline, which is a non-GUI backend, so cannot show the figure.\n",
      "  fig.show()\n"
     ]
    },
    {
     "data": {
      "image/png": "[encoded data removed]",
      "text/plain": [
       "<Figure size 864x360 with 2 Axes>"
      ]
     },
     "metadata": {
      "needs_background": "light"
     },
     "output_type": "display_data"
    }
   ],
   "source": [
    "engine.show_report(benchmark='^SP500TR') \n",
    "# ^SP500TR is the index ticker for S&P 500 total return index. It can be found at yahoo finance.\n",
    "\n",
    "# CAGR = annual return\n",
    "# Vol = annual volatility\n",
    "# Sharpe = annualized Sharpe ratio\n",
    "# IR = Information ratio relative to the benchmark\n",
    "# MDD = max drawdown\n",
    "# MUP = max underwater period\n",
    "# Turnover = average 1 year turnover"
   ]
  },
  {
   "cell_type": "code",
   "execution_count": 16,
   "metadata": {},
   "outputs": [
    {
     "name": "stderr",
     "output_type": "stream",
     "text": [
      "C:\\Users\\earen\\Anaconda3\\lib\\site-packages\\quantnote\\backtest_engine.py:471: UserWarning: Matplotlib is currently using module://ipykernel.pylab.backend_inline, which is a non-GUI backend, so cannot show the figure.\n",
      "  fig.show()\n"
     ]
    },
    {
     "data": {
      "image/png": "[encoded data removed]",
      "text/plain": [
       "<Figure size 432x288 with 1 Axes>"
      ]
     },
     "metadata": {
      "needs_background": "light"
     },
     "output_type": "display_data"
    }
   ],
   "source": [
    "engine.show_sectorflow()"
   ]
  },
  {
   "cell_type": "markdown",
   "metadata": {},
   "source": [
    "### 3.3. Modify your strategy.\n",
    "\n",
    "Now, let us modify the above equal-weight strategy to the cap-weighted strategy. In the code below, we set our targe weight proportional to their market capitalization."
   ]
  },
  {
   "cell_type": "code",
   "execution_count": 17,
   "metadata": {},
   "outputs": [],
   "source": [
    "class myStrategy(Strategy):\n",
    "    def __init__(self):\n",
    "        super().__init__()\n",
    "\n",
    "    def compute_target(self, universe_list):\n",
    "        target_weight = { }\n",
    "        for ticker in universe_list:\n",
    "            target_weight[ticker] = self.get_value(\n",
    "                table = 'metric',\n",
    "                ticker = ticker,\n",
    "                value = 'marketcap')\n",
    "            \"\"\"\n",
    "            Strategy class receives the cache information of the BacktesteEngine class. \n",
    "            Its value can be obtained by using self.get_value method. \n",
    "            It will automatically return the most recent value obtainable at the date where the Strategy class computes the weight.\n",
    "            \"\"\"\n",
    "        target_weight = self.normalize(target_weight)\n",
    "        return target_weight\n",
    "\n",
    "    def custom_factor(self, ticker, ftype):\n",
    "        if ftype == 'marketcap':\n",
    "            return self.get_value('metric',ticker,'marketcap')\n",
    "        else:\n",
    "            assert False"
   ]
  },
  {
   "cell_type": "code",
   "execution_count": 18,
   "metadata": {},
   "outputs": [
    {
     "name": "stdout",
     "output_type": "stream",
     "text": [
      "Backtest period: 2018-01-02 00:00:00 -- 2021-08-27 00:00:00\n",
      "=== date:2021-08-27 00:00:00 / total_asset:2.802 / time elapsed:3.6 ===\n",
      "[run_backtest] is executed in 3.78 seconds\n"
     ]
    }
   ],
   "source": [
    "CW = myStrategy()\n",
    "\n",
    "engine.run_backtest(\n",
    "    strategy = CW, sdate = '2018-01-01', edate = '2021-08-27')"
   ]
  },
  {
   "cell_type": "code",
   "execution_count": 19,
   "metadata": {},
   "outputs": [
    {
     "name": "stderr",
     "output_type": "stream",
     "text": [
      "C:\\Users\\earen\\Anaconda3\\lib\\site-packages\\quantnote\\backtest_engine.py:368: UserWarning: Matplotlib is currently using module://ipykernel.pylab.backend_inline, which is a non-GUI backend, so cannot show the figure.\n",
      "  fig.show()\n",
      "C:\\Users\\earen\\Anaconda3\\lib\\site-packages\\quantnote\\backtest_engine.py:471: UserWarning: Matplotlib is currently using module://ipykernel.pylab.backend_inline, which is a non-GUI backend, so cannot show the figure.\n",
      "  fig.show()\n"
     ]
    },
    {
     "data": {
      "image/png": "[encoded data removed]",
      "text/plain": [
       "<Figure size 864x360 with 2 Axes>"
      ]
     },
     "metadata": {
      "needs_background": "light"
     },
     "output_type": "display_data"
    },
    {
     "data": {
      "image/png": "[encoded data removed]",
      "text/plain": [
       "<Figure size 432x288 with 1 Axes>"
      ]
     },
     "metadata": {
      "needs_background": "light"
     },
     "output_type": "display_data"
    }
   ],
   "source": [
    "engine.show_report(benchmark='^SP500TR') \n",
    "engine.show_sectorflow()"
   ]
  },
  {
   "cell_type": "code",
   "execution_count": null,
   "metadata": {},
   "outputs": [],
   "source": []
  }
 ],
 "metadata": {
  "kernelspec": {
   "display_name": "Python 3",
   "language": "python",
   "name": "python3"
  },
  "language_info": {
   "codemirror_mode": {
    "name": "ipython",
    "version": 3
   },
   "file_extension": ".py",
   "mimetype": "text/x-python",
   "name": "python",
   "nbconvert_exporter": "python",
   "pygments_lexer": "ipython3",
   "version": "3.8.5"
  }
 },
 "nbformat": 4,
 "nbformat_minor": 4
}
